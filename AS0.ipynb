{
 "cells": [
  {
   "cell_type": "markdown",
   "metadata": {},
   "source": [
    "## Assignment 0 \n",
    "## Lin Zhuo\n",
    "## A20379609"
   ]
  },
  {
   "cell_type": "markdown",
   "metadata": {},
   "source": [
    "### A\n",
    "Let: ${ A = \\begin{bmatrix}1 \\\\2 \\\\3 \\\\\\end{bmatrix},    \n",
    "B = \\begin{bmatrix}4\\\\5\\\\6 \\end{bmatrix} }, \n",
    "C = \\begin{bmatrix}-1\\\\1\\\\3 \\end{bmatrix}$, \n",
    "find:"
   ]
  },
  {
   "cell_type": "markdown",
   "metadata": {},
   "source": [
    "`1. 2A - B`"
   ]
  },
  {
   "cell_type": "markdown",
   "metadata": {},
   "source": [
    ">${2A - B = \\begin{bmatrix}-2\\\\-1\\\\0 \\end{bmatrix}}$"
   ]
  },
  {
   "cell_type": "markdown",
   "metadata": {},
   "source": [
    "**`2.||A|| and the angle of A relative to the positive X axis`**"
   ]
  },
  {
   "cell_type": "markdown",
   "metadata": {},
   "source": [
    ">${||A|| = \\sqrt{1^2 + 2^2 + 3^2} = 3.742}$"
   ]
  },
  {
   "cell_type": "markdown",
   "metadata": {},
   "source": [
    "The unit vector of X axis is ${[1, 0, 0]}$"
   ]
  },
  {
   "cell_type": "markdown",
   "metadata": {},
   "source": [
    "The angle ${\\alpha}$ between two vectors ${\\bar{a}}$ and ${\\bar{b}}$ has the value:\n",
    "${\\cos{\\alpha}} = {\\frac {\\bar{a} \\cdot \\bar{b}} {|\\bar{a}| \\cdot |\\bar{b}|}}$"
   ]
  },
  {
   "cell_type": "markdown",
   "metadata": {},
   "source": [
    "${\\cos \\alpha = \\frac {1\\times4 + 2\\times5 + 3\\times6}{\\sqrt{1^2+2^2+3^2} \\sqrt{4^2+5^2+6^2}} }$\n",
    "\n",
    "${\\alpha= 1.30}$"
   ]
  },
  {
   "cell_type": "markdown",
   "metadata": {},
   "source": [
    ">The angle is 1.30 radius. "
   ]
  },
  {
   "cell_type": "markdown",
   "metadata": {
    "collapsed": true
   },
   "source": [
    "**`3. A, a unit vector in the direction of A`**"
   ]
  },
  {
   "cell_type": "markdown",
   "metadata": {
    "collapsed": true
   },
   "source": [
    "The unit vector in direction of vector ${u}$ is: \n",
    "${\\hat{u} = \\frac {u} {|u|}}$"
   ]
  },
  {
   "cell_type": "markdown",
   "metadata": {},
   "source": [
    ">The unit vector ${\\hat{A}} = \\begin{bmatrix}0.267\\\\0.535\\\\0.802\\end{bmatrix}$ "
   ]
  },
  {
   "cell_type": "markdown",
   "metadata": {},
   "source": [
    "**`4. The direction cosines of A`**"
   ]
  },
  {
   "cell_type": "markdown",
   "metadata": {},
   "source": [
    "The direction cosines of a vector are the elemenets of its unit vector."
   ]
  },
  {
   "cell_type": "markdown",
   "metadata": {},
   "source": [
    ">The direction cosines are: ${0.267, 0.535, 0.802}$"
   ]
  },
  {
   "cell_type": "markdown",
   "metadata": {},
   "source": [
    "**`5. `** ${A \\cdot B}$ and ${B \\cdot A}$ "
   ]
  },
  {
   "cell_type": "markdown",
   "metadata": {},
   "source": [
    "The dot product obeys the commutative property: ${A \\cdot B = B \\cdot A}$. \n",
    "Here it equals ${A^T \\times B}$"
   ]
  },
  {
   "cell_type": "markdown",
   "metadata": {},
   "source": [
    ">${A \\cdot B = B \\cdot A = 32}$"
   ]
  },
  {
   "cell_type": "markdown",
   "metadata": {},
   "source": [
    "**`6. The angle between A and B`**"
   ]
  },
  {
   "cell_type": "markdown",
   "metadata": {},
   "source": [
    ">The angle is ${0.226 \\, rad\\,}$ (${12.93 \\, degree}$). "
   ]
  },
  {
   "cell_type": "markdown",
   "metadata": {},
   "source": [
    "**`7. A vector which is perpendicular to A`**"
   ]
  },
  {
   "cell_type": "markdown",
   "metadata": {},
   "source": [
    "Let the vector have the form: ${[1, 0, x]}$ and try to resolve ${x}$.\n",
    "\n",
    "Two perpendicular vectors have zero dot product.\n",
    "\n",
    "${\\begin{bmatrix}1\\\\2\\\\3\\end{bmatrix} \\cdot \\begin{bmatrix}1\\\\0\\\\x\\end{bmatrix} = 0}$\n",
    "\n",
    "${x = -1/3}$"
   ]
  },
  {
   "cell_type": "markdown",
   "metadata": {},
   "source": [
    ">The vector could be ${\\begin{bmatrix}1\\\\0\\\\-1/3\\end{bmatrix}}$"
   ]
  },
  {
   "cell_type": "markdown",
   "metadata": {},
   "source": [
    "**`8. `** ${A \\times B}$ and ${B \\times A}$"
   ]
  },
  {
   "cell_type": "markdown",
   "metadata": {},
   "source": [
    ">${A \\times B = B \\times A = \\begin{bmatrix}3\\\\-6\\\\3\\end{bmatrix} }$"
   ]
  },
  {
   "cell_type": "markdown",
   "metadata": {},
   "source": [
    "**`9. A vector which is pependicular to both A and B`**"
   ]
  },
  {
   "cell_type": "markdown",
   "metadata": {},
   "source": [
    "Let the vector be ${\\begin{bmatrix}x\\\\y\\\\1 \\end{bmatrix}}$\n",
    "\n",
    "When it is pependicular to both A and B, we have:\n",
    "\n",
    "${\\begin{bmatrix}x\\\\y\\\\1 \\end{bmatrix} \\cdot \\begin{bmatrix}1\\\\2\\\\3 \\end{bmatrix} = 0,  \\,\\,\\,\n",
    "\\begin{bmatrix}x\\\\y\\\\1 \\end{bmatrix} \\cdot \\begin{bmatrix}4\\\\5\\\\6 \\end{bmatrix} = 0\n",
    "}$\n",
    "\n",
    "That is, \n",
    "\n",
    "${x + 2y + 3 = 0}$\n",
    "\n",
    "${4x + 5y + 6 = 0}$"
   ]
  },
  {
   "cell_type": "markdown",
   "metadata": {},
   "source": [
    "Solving the equation set, we got:\n",
    "\n",
    "${x = 1, y=-2}$\n",
    "\n",
    ">The vector is ${\\begin{bmatrix}1\\\\-2\\\\1\\end{bmatrix}}$"
   ]
  },
  {
   "cell_type": "markdown",
   "metadata": {},
   "source": [
    "**`10. The linear dependency between A, B, C`**"
   ]
  },
  {
   "cell_type": "markdown",
   "metadata": {},
   "source": [
    "We need to find the numericals ${\\lambda_1, \\lambda_2, \\lambda_3, }$ s.t.:\n",
    "\n",
    "${\\lambda_1 \\begin{bmatrix}1\\\\2\\\\3\\end{bmatrix} + \\lambda_2 \\begin{bmatrix}4\\\\5\\\\6\\end{bmatrix}\n",
    "+\\lambda_3 \\begin{bmatrix}-1\\\\1\\\\3\\end{bmatrix} = \\begin{bmatrix}0\\\\0\\\\0\\end{bmatrix}}$\n",
    "\n",
    "And solve the equation set:\n",
    "\n",
    "${\\lambda_1 + 4\\lambda_2 - \\lambda_3 = 0}$\n",
    "\n",
    "${2\\lambda_1 + 5\\lambda_2 + \\lambda_3 = 0}$\n",
    "\n",
    "${3\\lambda_1 + 6\\lambda_2 + 3\\lambda_3 = 0}$\n",
    "\n",
    "We get:\n",
    "\n",
    "${\\lambda_1 = -3\\lambda_2}$\n",
    "\n",
    "${\\lambda_2 = \\lambda_3}$"
   ]
  },
  {
   "cell_type": "markdown",
   "metadata": {},
   "source": [
    "The solutions are trivial. \n",
    "\n",
    ">They are linearly dependent. "
   ]
  },
  {
   "cell_type": "markdown",
   "metadata": {},
   "source": [
    "**`11. `** ${A^TB}$ and ${AB^T}$"
   ]
  },
  {
   "cell_type": "markdown",
   "metadata": {},
   "source": [
    ">${A^TB = \\begin{bmatrix}32\\end{bmatrix}}$\n",
    "\n",
    ">${AB^T = \\begin{bmatrix}4&5&6\\\\8&10&12\\\\12&15&18\\end{bmatrix} }$"
   ]
  },
  {
   "cell_type": "markdown",
   "metadata": {},
   "source": [
    "### B"
   ]
  },
  {
   "cell_type": "markdown",
   "metadata": {},
   "source": [
    "Let: A = ${\\begin{bmatrix}1&2&3\\\\4&-2&3\\\\0&5&-1\\end{bmatrix},\\,\\,}$\n",
    "B = ${\\begin{bmatrix}1&2&1\\\\2&1&-4\\\\3&-2&1\\end{bmatrix},\\,\\,}$\n",
    "C = ${\\begin{bmatrix}1&2&3\\\\4&5&6\\\\-1&1&3\\end{bmatrix}}$, find:"
   ]
  },
  {
   "cell_type": "markdown",
   "metadata": {},
   "source": [
    "**`1. `** ${2A-B}$"
   ]
  },
  {
   "cell_type": "markdown",
   "metadata": {},
   "source": [
    ">${2A-B=\\begin{bmatrix}1&2&5\\\\6&-5&10\\\\-3&12&-3\\end{bmatrix}}$"
   ]
  },
  {
   "cell_type": "markdown",
   "metadata": {},
   "source": [
    "**`2. ` ${AB}$ and ${BA}$ **"
   ]
  },
  {
   "cell_type": "markdown",
   "metadata": {},
   "source": [
    ">${AB=\\begin{bmatrix}14&-2&-4\\\\9&0&15\\\\7&7&-21\\end{bmatrix},\\,\n",
    "BA=\\begin{bmatrix}9&3&8\\\\6&-18&13\\\\-5&15&2\\end{bmatrix}\n",
    "}$"
   ]
  },
  {
   "cell_type": "markdown",
   "metadata": {},
   "source": [
    "**`3. ` ${(AB)^T}$ and ${B^TA^T}$**"
   ]
  },
  {
   "cell_type": "markdown",
   "metadata": {},
   "source": [
    ">${(AB)^T=\\begin{bmatrix}14&9&7\\\\-2&0&7\\\\-4&15&-21\\end{bmatrix},\\,\n",
    "B^TA^T=(BA)^T=\\begin{bmatrix}9&6&-5\\\\3&-18&15\\\\8&13&2\\end{bmatrix}\n",
    "}$"
   ]
  },
  {
   "cell_type": "markdown",
   "metadata": {},
   "source": [
    "**`4. ` ${|A|}$ and ${|C|}$**"
   ]
  },
  {
   "cell_type": "markdown",
   "metadata": {},
   "source": [
    ">${|A| = 55, \\, |C| = 0}$"
   ]
  },
  {
   "cell_type": "markdown",
   "metadata": {},
   "source": [
    "**`5. The matrix (A, B or C) in which the row vectors form an orthogonal set `** "
   ]
  },
  {
   "cell_type": "markdown",
   "metadata": {},
   "source": [
    ">Because the determinant of the matrix whose row vectors form an orthogonal set is 0, the answer is C."
   ]
  },
  {
   "cell_type": "markdown",
   "metadata": {},
   "source": [
    "**`6. ` ${A^{-1}}$ and ${B^{-1}}$**"
   ]
  },
  {
   "cell_type": "markdown",
   "metadata": {},
   "source": [
    ">${A^{-1}=\\begin{bmatrix}-0.236&0.309&0.218\\\\0.073&-0.018&0.164\\\\0.364&-0.091&-0.182\\end{bmatrix},\\,\n",
    "B^{-1}=\\begin{bmatrix}0.167&0.095&0.214\\\\0.333&0.048&-0.143\\\\0.167&-0.190&0.071\\end{bmatrix}\n",
    "}$"
   ]
  },
  {
   "cell_type": "markdown",
   "metadata": {},
   "source": [
    "### C"
   ]
  },
  {
   "cell_type": "markdown",
   "metadata": {},
   "source": [
    "Let: ${A=\\begin{bmatrix}1&2\\\\3&2\\end{bmatrix}, \\, B=\\begin{bmatrix}2&-2\\\\-2&5\\end{bmatrix}, \\,\\,}$find:"
   ]
  },
  {
   "cell_type": "markdown",
   "metadata": {},
   "source": [
    "**`1. the eigenvalues and corresponding eigenvectors of A`**"
   ]
  },
  {
   "cell_type": "markdown",
   "metadata": {},
   "source": [
    ">The eigenvalues of A are: ${-1, 4}$\n",
    "\n",
    ">The corresponding eigenvectors are: ${\\begin{bmatrix}-0.707\\\\0.707\\end{bmatrix}, \\,\\, \n",
    "\\begin{bmatrix}-0.555\\\\-0.832\\end{bmatrix}\n",
    "}$"
   ]
  },
  {
   "cell_type": "markdown",
   "metadata": {},
   "source": [
    "**`2. the matrix ` ${V^{-1}AV}$ `where` ${V}$ `is composed of the eigenvectors of A`**"
   ]
  },
  {
   "cell_type": "markdown",
   "metadata": {},
   "source": [
    ">${V^{-1}AV = \\begin{bmatrix}-1&0\\\\0&4\\end{bmatrix}}$"
   ]
  },
  {
   "cell_type": "markdown",
   "metadata": {},
   "source": [
    "**`3. the dot product between the eigenvectors of ` ${A}$**"
   ]
  },
  {
   "cell_type": "markdown",
   "metadata": {},
   "source": [
    ">The answer is ${-0.196}$"
   ]
  },
  {
   "cell_type": "markdown",
   "metadata": {},
   "source": [
    "**`4. the dot product between the eigenvectors of ` ${B}$**"
   ]
  },
  {
   "cell_type": "markdown",
   "metadata": {},
   "source": [
    ">The answer is ${0}$"
   ]
  },
  {
   "cell_type": "markdown",
   "metadata": {},
   "source": [
    "**`5. the property of the eigenvectors of B and its reason`**"
   ]
  },
  {
   "cell_type": "markdown",
   "metadata": {},
   "source": [
    ">The dot product of the eigenvectors is 0. \n",
    "Because they are orthogonal. "
   ]
  },
  {
   "cell_type": "markdown",
   "metadata": {},
   "source": [
    "### D"
   ]
  },
  {
   "cell_type": "markdown",
   "metadata": {},
   "source": [
    "Let:  ${f(x) = x^2 + 3, \\, g(x,y) = x^2+y^2, \\,}$ find:"
   ]
  },
  {
   "cell_type": "markdown",
   "metadata": {},
   "source": [
    "**`1. the first and second derivatives of` ${\\,f(x)\\,}$ `with respect to ` ${x: f^{'}(x)}$ `and ` ${f^{''}(x)}$**"
   ]
  },
  {
   "cell_type": "markdown",
   "metadata": {},
   "source": [
    ">${f^{'}(x) = 2x, \\, f^{''}(x) = 2 }$"
   ]
  },
  {
   "cell_type": "markdown",
   "metadata": {},
   "source": [
    "**`2. the partial derivatives:` ${\\frac {\\partial{g}}{\\partial{x}}}$ `and` ${\\frac {\\partial{g}}{\\partial{y}}}$**"
   ]
  },
  {
   "cell_type": "markdown",
   "metadata": {},
   "source": [
    ">${\\frac {\\partial{g}}{\\partial{x}} = 2x}$ \n",
    "\n",
    ">${\\frac {\\partial{g}}{\\partial{y}} = 2y}$"
   ]
  },
  {
   "cell_type": "markdown",
   "metadata": {},
   "source": [
    "**`3. the gradient vector ` ${\\nabla g(x,y)}$**"
   ]
  },
  {
   "cell_type": "markdown",
   "metadata": {},
   "source": [
    ">${\\nabla g(x,y) = [\\frac {\\partial{g}}{\\partial{x}}, \\frac {\\partial{g}}{\\partial{y}}] = [2x, 2y]}$"
   ]
  },
  {
   "cell_type": "markdown",
   "metadata": {},
   "source": [
    "**`4. the probability density function of a univariate Gaussian (normal) distribution`**"
   ]
  },
  {
   "cell_type": "markdown",
   "metadata": {},
   "source": [
    ">${f(x) = \\frac{1}{\\sqrt{2\\pi\\sigma^2}} e^{-\\frac {(x-\\mu)^2}{2\\sigma^2}},\\,  }$ where, \n",
    "\n",
    ">${\\mu}$ is the mean or expectation of the distribution and ${\\sigma}$ is the standard deviation. "
   ]
  }
 ],
 "metadata": {
  "kernelspec": {
   "display_name": "Python 2",
   "language": "python",
   "name": "python2"
  },
  "language_info": {
   "codemirror_mode": {
    "name": "ipython",
    "version": 2
   },
   "file_extension": ".py",
   "mimetype": "text/x-python",
   "name": "python",
   "nbconvert_exporter": "python",
   "pygments_lexer": "ipython2",
   "version": "2.7.13"
  }
 },
 "nbformat": 4,
 "nbformat_minor": 2
}
