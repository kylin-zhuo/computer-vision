{
 "cells": [
  {
   "cell_type": "markdown",
   "metadata": {},
   "source": [
    "## CS512 Homework 3 - Report\n",
    "## Lin Zhuo\n",
    "## A20379609"
   ]
  },
  {
   "cell_type": "markdown",
   "metadata": {},
   "source": [
    "### 1. Problem statement"
   ]
  },
  {
   "cell_type": "markdown",
   "metadata": {},
   "source": [
    "In this assignment the image processing is applied on the images containing straighlines. The objective is to apply Hough transform for obtaining the parameter plane, which has the parameters of distance and angle in polar coordinate. \n",
    "\n",
    "The Hough transform is helpful for detecting the prodominent straight lines in the image and the approach of model fitting is also to be applied."
   ]
  },
  {
   "cell_type": "markdown",
   "metadata": {},
   "source": [
    "### 2. Methods "
   ]
  },
  {
   "cell_type": "markdown",
   "metadata": {},
   "source": [
    "#### Detect edge pixels to generate a binary edge image."
   ]
  },
  {
   "cell_type": "markdown",
   "metadata": {},
   "source": [
    "In this procedure the original image is transformed to a resultant binary image in which the detected edges are gray scale color 255 (white) and the rest area are 0 (black).\n",
    "\n",
    "Two approaches were applied((E.g. using Canny, Sobel). The binary edge image can be obtained by convolving the gray scale image with Sobel filter in the x and y directions together with normalizing and mapping the image gray scale value to 0 or 255 with a specific threshold. \n",
    "\n",
    "Differences of binary edge detection were checked and used in the following parts by applying the openCV function `cv2.Canny()`. \n"
   ]
  },
  {
   "cell_type": "markdown",
   "metadata": {},
   "source": []
  },
  {
   "cell_type": "markdown",
   "metadata": {},
   "source": [
    "#### Apply the Hough transform to detect straight lines."
   ]
  },
  {
   "cell_type": "markdown",
   "metadata": {},
   "source": [
    "After detecting the binary edges, in this step polar coordinate in the parameter plane is used to apply the Hough transform. Main steps are:\n",
    "\n",
    "* Determine the range of ${\\rho}$ and ${\\theta}$. ${\\rho}$ ranges from -max_dist to max_dist where max_dist is the diagonal length of the input image. ${\\theta}$ ranges from ${-90^{\\circ}}$ to ${90^{\\circ} }$. By default, there are 180 bins and each bin represent one degree. It is possible to adjust the number of bins in the next steps for the tradeoff of accuracy, space and speed. \n",
    "\n",
    "\n",
    "* Hough accumulator of ${\\rho}$ vs ${\\theta}$. The accumulator of the parameter plane is a 2D array with the number of rows equal to the number of ${\\rho}$ values and the number of columns equal to the number of ${\\theta}$ values.\n",
    "\n",
    "\n",
    "* Voting in the accumulator. For each candidate point in the image and for each ${\\theta}$ value, find the nearest ${\\rho}$ value (binned the value to a certain bin) and increment the value of that index in the accumulator. Each element tells how many points/pixels contributed “votes” for potential line candidates with parameters (${\\rho}, {\\theta}$).\n",
    "\n",
    "\n",
    "* Peak finding. Local maxima in the accumulator indicate the parameters of the most prominent lines in the input image. Here the peaks can be detected by applying a threshold or a relative threshold (values equal to or greater than some fixed percentage of the global maximum value)."
   ]
  },
  {
   "cell_type": "markdown",
   "metadata": {},
   "source": [
    "#### Determine the edge pixels belonging to each detected line and refine the line parameters estimate using least square error fitting."
   ]
  },
  {
   "cell_type": "markdown",
   "metadata": {},
   "source": [
    "Employ a threshold of distance to assign the pixels to a specific point in the parameter plane which is corresponding to a line in the image. \n",
    "\n",
    "Assign a point to belong to a line when its distance to the line is within the threshold.\n",
    "\n",
    "The explicit line can be written as ${ax + by + c = 0}$.\n",
    "\n",
    "The parameters are ${l = [a,b,c]^T}$. \n",
    "\n",
    "The objective is to get the sum of all the distances of the points to the above line model: \n",
    "\n",
    "${E(l) = \\Sigma{(l^T x_i)^2}}$\n",
    "\n",
    "that is, ${\\partial{E(l)}/\\partial{l} = 0}$\n",
    "\n",
    "${E(l) = \\Sigma_i{(l^Tx_i)^2} = \\Sigma{l^Tx_ix_i^Tl} = l^T\\Sigma{(x_ix_i^T)}l}$ \n",
    "\n",
    "${\\frac{\\partial{E}}{\\partial{l}} = 2\\Sigma{(x_ix_i^T)}l = 0}$\n",
    "\n",
    "The equation to solve is:\n",
    "\n",
    "${\\Sigma (x_i x_i^T) \\begin{bmatrix}a\\\\b\\\\c\\end{bmatrix} = 0}$\n",
    "\n"
   ]
  },
  {
   "cell_type": "markdown",
   "metadata": {},
   "source": [
    "The solution is the eigenvector belonging to the eigenvalue that has the smallest absolute value (in ideal case the eigenvalue should be zero.)\n",
    "\n"
   ]
  },
  {
   "cell_type": "markdown",
   "metadata": {},
   "source": [
    "#### Using color draw detected line segments and color the pixels belonging to them."
   ]
  },
  {
   "cell_type": "markdown",
   "metadata": {},
   "source": [
    "In the code, a threshold is define to group the points from the binary edge image to be assigned to a certain line or to no lines at all. \n",
    "\n",
    "For each found lines through Hough transform, it can be expressed as ${(\\theta, \\rho)}$, the distance from a point in the image ${(x,y)}$ to it is ${d = x cos(\\theta) + y sin(\\theta)}$. If ${|\\rho - d| < \\tau}$, the point belongs to the line. "
   ]
  },
  {
   "cell_type": "markdown",
   "metadata": {},
   "source": [
    "#### Add a mode: display the result before and after applying least squares refinement.  "
   ]
  },
  {
   "cell_type": "markdown",
   "metadata": {},
   "source": [
    "The comparison is given in the result and analysis section."
   ]
  },
  {
   "cell_type": "markdown",
   "metadata": {},
   "source": [
    "#### Add a mode: display the paramter plane."
   ]
  },
  {
   "cell_type": "markdown",
   "metadata": {},
   "source": [
    "The votes obtained from the Hough Transform are normalized to [0,255] and displayed as the gray scale image."
   ]
  },
  {
   "cell_type": "markdown",
   "metadata": {},
   "source": [
    "#### Interactive thresolding added:\n",
    "\n",
    "* The adjustable hysteresis thresholding: adjust the nunber of edge pixels detected\n",
    "\n",
    "* The bin size in the Hough transform\n",
    "\n",
    "* The local maxima determination threshold"
   ]
  },
  {
   "cell_type": "markdown",
   "metadata": {},
   "source": [
    "### 3. Result and analysis"
   ]
  },
  {
   "cell_type": "markdown",
   "metadata": {},
   "source": [
    "#### 3.1 Canny edge detection\n",
    "\n",
    "In the canny edge detection the two hysteresis thresholds are adjusted interactively. The results of different combination of thresholds are shown below (Figure 1~4). \n",
    "\n",
    "![Canny edge detection: low = 5, high = 30](canny1.jpg)\n",
    "\n",
    "\n",
    "![Canny edge detection: low = 5, high = 120](canny2.jpg)\n",
    "\n",
    "\n",
    "![Canny edge detection: low = 120, high = 120](canny3.jpg)\n",
    "\n",
    "\n",
    "![Canny edge detection: low = 150, high = 250](canny4.jpg)"
   ]
  },
  {
   "cell_type": "markdown",
   "metadata": {},
   "source": [
    "#### 3.2 Hough transform\n",
    "\n",
    "The paramter plane is normalized to [0,255] and plotted to the gray scale as shown for example in the following Figure 5. \n",
    "\n",
    "\n",
    "![Parameter plane](parameter.jpg)"
   ]
  },
  {
   "cell_type": "markdown",
   "metadata": {},
   "source": [
    "After hough transform and selecting the local maxima as representation of lines, the lines are drawn onto the image represented by white lines. (Figure 6)\n",
    "\n",
    "![The lines detected by the Hough transform](hough_line.jpg)\n",
    "\n"
   ]
  },
  {
   "cell_type": "markdown",
   "metadata": {},
   "source": [
    "\n",
    "The results of different bin sizes are shown in Figure 7,8,9.\n",
    "\n",
    "\n",
    "![The lines detected by the Hough transform - bin size: 2](binsize2.jpg)\n",
    "\n",
    "\n",
    "![The lines detected by the Hough transform - bin size: 4](binsize4.jpg)\n",
    "\n",
    "\n",
    "![The lines detected by the Hough transform - bin size: 9](binsize9.jpg)\n",
    "\n",
    "When the bin size is too big, there could be errors in the line direction detection due to the loss of line information. "
   ]
  },
  {
   "cell_type": "markdown",
   "metadata": {},
   "source": [
    "#### 3.3 Least Square Error (LSE) Fitting"
   ]
  },
  {
   "cell_type": "markdown",
   "metadata": {},
   "source": [
    "The points assigned to each line are plotted with different colors and the fitted lines via LSE are in white color. The result is shown in Figure 10.\n",
    "\n",
    "![The lines refined by LSE](lse.jpg)"
   ]
  },
  {
   "cell_type": "markdown",
   "metadata": {},
   "source": [
    "### 4. References"
   ]
  },
  {
   "cell_type": "markdown",
   "metadata": {},
   "source": [
    "http://opencv-python-tutroals.readthedocs.io/en/latest/py_tutorials/py_imgproc/py_canny/py_canny.html\n",
    "\n",
    "https://docs.opencv.org/2.4/doc/tutorials/imgproc/imgtrans/hough_lines/hough_lines.html\n",
    "\n",
    "https://alyssaq.github.io/2014/understanding-hough-transform/\n"
   ]
  },
  {
   "cell_type": "code",
   "execution_count": null,
   "metadata": {
    "collapsed": true
   },
   "outputs": [],
   "source": []
  }
 ],
 "metadata": {
  "kernelspec": {
   "display_name": "Python 2",
   "language": "python",
   "name": "python2"
  },
  "language_info": {
   "codemirror_mode": {
    "name": "ipython",
    "version": 2
   },
   "file_extension": ".py",
   "mimetype": "text/x-python",
   "name": "python",
   "nbconvert_exporter": "python",
   "pygments_lexer": "ipython2",
   "version": "2.7.13"
  }
 },
 "nbformat": 4,
 "nbformat_minor": 2
}
