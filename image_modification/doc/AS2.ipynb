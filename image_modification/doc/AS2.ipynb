{
 "cells": [
  {
   "cell_type": "markdown",
   "metadata": {},
   "source": [
    "# CS512 Assignment 2\n",
    "## Lin Zhuo\n",
    "## A20379609"
   ]
  },
  {
   "cell_type": "markdown",
   "metadata": {},
   "source": []
  },
  {
   "cell_type": "markdown",
   "metadata": {},
   "source": [
    "### 1. Noise and Filtering"
   ]
  },
  {
   "cell_type": "markdown",
   "metadata": {},
   "source": [
    "**(a) Explain how to estimate the signal to noise ratio in an image.**"
   ]
  },
  {
   "cell_type": "markdown",
   "metadata": {},
   "source": [
    "It is basically measured as the energy of the signal divided by the energy of noise. It can be written as the following formula:\n",
    "\n",
    "${SNR = \\frac{E_s}{E_n} = \\frac{{\\sigma_s}^2}{{\\sigma_n}^2}}$\n",
    "\n",
    "where ${{\\sigma_s}^2}$ represents the variance of pixels in a sequence of images and ${{\\sigma_n}^2}$ has the meaning of the variance in uniform area.\n",
    "\n",
    "When measured in db, the formula is:\n",
    "\n",
    "${SNR[db] = 10 \\, log \\frac{E_s}{E_n}}$"
   ]
  },
  {
   "cell_type": "markdown",
   "metadata": {},
   "source": [
    "**(b) Explain the difference between Gaussian and impulsive noise. Which filter handles better impulsive noise: an averaging filter or a median filter?**"
   ]
  },
  {
   "cell_type": "markdown",
   "metadata": {},
   "source": [
    "Gaussian noise is statistical noise with a probability density function equal to that of the normal distribution (Gaussian distribution) while impulsive noise is abruptly happened, accidentally introduced to the signal, and it is normally sharp and short. \n",
    "\n",
    "A median filter handles better the impulsive noise."
   ]
  },
  {
   "cell_type": "markdown",
   "metadata": {},
   "source": [
    "**(c) Give an image having the value of 2 in each cell, write the value of the pixels in this image after applying a 3x3 convolution filter having all 1-s in its entries. **"
   ]
  },
  {
   "cell_type": "markdown",
   "metadata": {},
   "source": [
    "For example we have a 5-by-5 matrix having the value 2 in each cell: \n",
    "\n",
    "${\\begin{bmatrix}2&2&2&2&2\\\\2&2&2&2&2\\\\2&2&2&2&2\\\\2&2&2&2&2\\\\2&2&2&2&2\\end{bmatrix}}$\n",
    "\n",
    "By the end of applying the 3-by-3 convolution filter having all 1-s, it becomes:\n",
    "\n",
    "${\\begin{bmatrix}2&2&2&2&2\\\\2&18&18&18&2\\\\2&18&18&18&2\\\\2&18&18&18&2\\\\2&2&2&2&2\\end{bmatrix}}$\n",
    "\n",
    "The image having the other dimensiona are similar: the outmost edge of the image remain the same while all the pixels inside are multiplied by 9 times."
   ]
  },
  {
   "cell_type": "markdown",
   "metadata": {},
   "source": [
    "**(d) Given that we need the derivative of an image convolved with a filter, explain how the operation can be applied more efficiently.**"
   ]
  },
  {
   "cell_type": "markdown",
   "metadata": {},
   "source": [
    "Compute the derivative of the filter first and then convolve with image."
   ]
  },
  {
   "cell_type": "markdown",
   "metadata": {},
   "source": [
    "**(e) Explain the three different ways to handle boundaries during convolution.**"
   ]
  },
  {
   "cell_type": "markdown",
   "metadata": {},
   "source": [
    "* Expand - the nearest pixels on the border are extended to provide values for the convolution. Corner pixels are extended in 90° wedges. Other edge pixels are extended in lines.\n",
    "* Wrap - The image is conceptually wrapped such that the values can be taken from the opposite edge or corner.\n",
    "* Crop - Any pixel in the output image which would require values from beyond the edge is skipped. This method can result in the output image being slightly smaller, with the edges having been cropped."
   ]
  },
  {
   "cell_type": "markdown",
   "metadata": {},
   "source": [
    "**(f) Write a basic 3 x 3 smoothing filter. What is the sum of all entries in this filter? Explain the reason for the sum to be selected as it is.**"
   ]
  },
  {
   "cell_type": "markdown",
   "metadata": {},
   "source": [
    "${\\frac{1}{9}\\begin{bmatrix}1&1&1\\\\1&1&1\\\\1&1&1\\end{bmatrix}}$\n",
    "\n",
    "The sum of all entries in this filter is 1, because we want to maintain the average intensity. "
   ]
  },
  {
   "cell_type": "markdown",
   "metadata": {},
   "source": [
    "**(g) Explain how to implement a 2D convolution with a Gaussian using two 1D convolution filters. Which option is more efficient? Is it possible to implement any 2D filter in this way?**"
   ]
  },
  {
   "cell_type": "markdown",
   "metadata": {},
   "source": [
    "The convolution with 2D Gaussian filter ${G(x,y)}$ can be decomposed to applying a 1D filter along the x direction and then another 1D filter along y direction, such as:\n",
    "\n",
    "${I * G(x,y) = G(y) * (I * G(x))}$\n",
    "\n",
    "The Gaussian convolution with two 1D filters is more efficient.\n",
    "\n",
    "It is possible to do in this way with Gaussian filter because Gaussian filter is seperable, which is:\n",
    "\n",
    "${G(x,y)\\,=\\,exp(-\\frac{x^2+y^2}{2 \\sigma^2}) = exp(-\\frac{x^2}{2 \\sigma^2})* exp(-\\frac{y^2}{2 \\sigma^2})}$\n",
    "\n",
    "but for some other filters that are not able to seperate x and y components, it is not possible to implement in this way."
   ]
  },
  {
   "cell_type": "markdown",
   "metadata": {},
   "source": [
    "**(h) Given a 1D Gaussian Filter with ${\\sigma=2}$, what should be the size of this filter?**"
   ]
  },
  {
   "cell_type": "markdown",
   "metadata": {},
   "source": [
    "The filter size is generally 3 times the standard deviation, that is, 6."
   ]
  },
  {
   "cell_type": "markdown",
   "metadata": {},
   "source": [
    "**(i) Explain how a Gaussian image pyramid is produced. What is the reason for producing such pyramids? What is the amount of additional processing done in a pyramid compared with a single image?**"
   ]
  },
  {
   "cell_type": "markdown",
   "metadata": {},
   "source": [
    "When the most proper window size cannot be determined, the multiple scale analysis of image is needed with the same window size but with different scales of images. \n",
    "\n",
    "The Gaussian pyramid is produced in the way that every upper level of image has half of the height and width of the lower level. The upper bound of the number of layers is the logarithmic of the image size. \n",
    "\n",
    "The processing cost is: ${m^2 + (\\frac{1}{2}m)^2 + (\\frac{1}{4}m)^2 + (\\frac{1}{8}m)^2 + ... <= \\frac{4m^2}{3}}$ where m is the size of image.\n",
    "\n",
    "One third of additional amount of processing is needed."
   ]
  },
  {
   "cell_type": "markdown",
   "metadata": {},
   "source": [
    "**(j) Explain how the Laplacian pyramid is produced and its use.**"
   ]
  },
  {
   "cell_type": "markdown",
   "metadata": {},
   "source": [
    "A Laplacian pyramid is similar to a Gaussian pyramid but saves the difference image of the blurred versions between each levels. Only the smallest level is not a difference image to enable reconstruction of the high resolution image using the difference images on higher levels. \n",
    "\n",
    "The Laplacian pyramid is useful image compression."
   ]
  },
  {
   "cell_type": "markdown",
   "metadata": {},
   "source": []
  },
  {
   "cell_type": "markdown",
   "metadata": {},
   "source": [
    "### 2. Edge Detection"
   ]
  },
  {
   "cell_type": "markdown",
   "metadata": {},
   "source": [
    "**(a) Why is edge detection useful? What are the desired properties of edge detection?**"
   ]
  },
  {
   "cell_type": "markdown",
   "metadata": {},
   "source": [
    "Edge detection can provide useful local features besides the global features of an image. \n",
    "\n",
    "The desired properties are:\n",
    "- Correspond to scene elements.\n",
    "- Invariant.\n",
    "- Reliable and consistent in detection."
   ]
  },
  {
   "cell_type": "markdown",
   "metadata": {},
   "source": [
    "**(b) Explain the basic steps of edge detection and the need for them: smoothing, enhancement and localization.**"
   ]
  },
  {
   "cell_type": "markdown",
   "metadata": {},
   "source": [
    "Capture the discontinuities in the image, it means to detect:\n",
    "- discontinuities of depth\n",
    "- discontinuities of illumination\n",
    "- discontinuities of texture\n",
    "- discontinuities of normal\n",
    "- noise\n",
    "- ...\n",
    "\n",
    "In the end, find the derivative.\n",
    "\n",
    "- Because derivatives are sensitive to noise, smoothing is needed in order to filter out the noise but not affect the edges.\n",
    "- Enhancement makes the edges more pronounced for detection.\n",
    "- Localization can give information where the edges are."
   ]
  },
  {
   "cell_type": "markdown",
   "metadata": {},
   "source": [
    "**(c) Describe two filters for computing the image gradient. What is the meaning of image gradient? What is it used for?**"
   ]
  },
  {
   "cell_type": "markdown",
   "metadata": {},
   "source": [
    "The image gradient can be computed by applying the filter for x-direction and for y-direction, which are:\n",
    "\n",
    "${\\begin{bmatrix}-1&0&1\\\\-1&0&1\\\\-1&0&1\\end{bmatrix}}$ and  ${\\begin{bmatrix}-1&-1&-1\\\\0&0&0\\\\1&1&1\\end{bmatrix}}$, respectively.\n",
    "\n",
    "Image grdient is the direction in which the image pixel has maximum change in colors. It can be used for edge detection becuase on the edge we can detect the significant image gradient."
   ]
  },
  {
   "cell_type": "markdown",
   "metadata": {},
   "source": [
    "**(d) Explain how the Sobel filter can be produced from a smoothing and derivative filters.**"
   ]
  },
  {
   "cell_type": "markdown",
   "metadata": {},
   "source": [
    "For example, when compute the image gradient in x-direction, \n",
    "\n",
    "${I * G * \\frac{\\partial}{\\partial x}}$\n",
    "\n",
    "we can compute the convolution of the smoothing filter ${G}$ and the derivative filter ${\\frac{\\partial}{\\partial x}}$ first:\n",
    "\n",
    "${I * G * \\frac{\\partial}{\\partial x}}$ = ${I * (G * \\frac{\\partial}{\\partial x})}$\n",
    "\n",
    "${G * \\frac{\\partial}{\\partial x} = \\begin{bmatrix}1&1\\\\1&1\\end{bmatrix} * \\begin{bmatrix}-1&1\\\\-1&1\\end{bmatrix} = \n",
    "\\begin{bmatrix}-1&0&1\\\\-2&0&2\\\\-1&0&1\\end{bmatrix} \n",
    "}$"
   ]
  },
  {
   "cell_type": "markdown",
   "metadata": {},
   "source": [
    "**(e) Explain how to generate a more accurate derivative filter with an arbitary ${\\sigma}$. Write the elements of a filter for more accurate derivative computation with ${\\sigma} = 2$. **"
   ]
  },
  {
   "cell_type": "markdown",
   "metadata": {},
   "source": [
    "Reconstruct the original image (continuous function) from the sample image and get the derivative of this continuous function, then resample it. \n",
    "\n",
    "Original image ${f[x]}$ -> Reconstruct: ${f[x]*h(x)}$ -> Compute derivative: ${f[x]*h'(x)}$ -> Resample: ${f[x]*h'[x]}$\n",
    "\n",
    "We could use Gaussian filter to approximate the sinc function, thus the more accurate derivative becomes ${f[x]*G'[x]}$.\n",
    "\n",
    "${I_x = I * G_y * G'_x}$\n",
    "\n",
    "${I_y = I * G_x * G'_y}$\n",
    "\n",
    "${G_x = exp(\\frac{-x^2}{2\\sigma^2}) => G'_x = \\frac{-x}{\\sigma^2}exp(\\frac{-x^2}{2\\sigma^2})}$\n",
    "\n",
    "With ${\\sigma = 2}$, we have ${G'_x = \\frac{-x}{4}exp(\\frac{-x^2}{8}) }$\n",
    "\n",
    "Similarly, ${G'_y = \\frac{-y}{4}exp(\\frac{-y^2}{8}) }$"
   ]
  },
  {
   "cell_type": "markdown",
   "metadata": {},
   "source": [
    "**(f) Explain how an edge can be localized using the first or second order derivative of the image. **"
   ]
  },
  {
   "cell_type": "markdown",
   "metadata": {},
   "source": [
    "By computing the first derivative of the image function, we can detect the edge where the first derivative is larger than a specific threshold ${\\tau}$.\n",
    "\n",
    "While by computing the second derivative, the edge can be localized at zero-crossing of second derivative."
   ]
  },
  {
   "cell_type": "markdown",
   "metadata": {},
   "source": [
    "**(g) Let ${\\sigma} = 1$. Write the Laplacian of Gaussian (LOG) filter using this ${\\sigma}$. Explain how to use LOG to detect edges. **"
   ]
  },
  {
   "cell_type": "markdown",
   "metadata": {},
   "source": [
    "* The Lapacian operator:\n",
    "\n",
    "${L(x,y) = \\frac{\\partial^2I}{\\partial x^2} + \\frac{\\partial^2I}{\\partial y^2}}$ \n",
    "\n",
    "${LoG(x,y) = \\frac{\\partial^2G}{\\partial x^2} + \\frac{\\partial^2G}{\\partial y^2},\\,\\, \n",
    "where \\,\\, G(x,y) = \\frac{1}{2\\pi\\sigma^2 exp(-\\frac{x^2+y^2}{2\\sigma^2})}}$ \n",
    "\n",
    "${LoG(x,y) = -\\frac{1}{\\pi\\sigma^4} e^{-\\frac{x^2+y^2}{2\\sigma^2}}(1-\\frac{x^2+y^2}{2\\sigma^2})}$\n",
    "\n",
    "Let ${\\sigma = 1}$, \n",
    "\n",
    "${LoG(x,y) = -\\frac{1}{\\pi} e^{-\\frac{x^2+y^2}{2}}(1-\\frac{x^2+y^2}{2})}$\n",
    "\n",
    "* The procedure of using LOG to detect edges:\n",
    "\n",
    "\\- Compute the LOG filter and convolve the image with LOG. (${\\Delta(I*G) = I*\\Delta G}$)\n",
    "\n",
    "\\- Thresholding. Assign 1 to the pixels where ${I*LoG > 0}$ and 0 to those where ${I*LoG \\leq 0}$\n",
    "\n",
    "\\- Mark the edges at transitions (from 0 to 1 or from 1 to 0). "
   ]
  },
  {
   "cell_type": "markdown",
   "metadata": {},
   "source": [
    "**(h) Explain the main differences between the Canny edge detection algorithm and a standard edge detection that does not use directional derivatives. What is the condition for detecting an edge candidate in Canny? **"
   ]
  },
  {
   "cell_type": "markdown",
   "metadata": {},
   "source": [
    "The Canny edge detection first detects the direction of image gradient and compute the derivative in this direction, while the standard edge detection computes the derivatives in x and y directions and sums them up. \n",
    "\n",
    "The condition for detecting an edge candidate is the gradient is larger than a certain threshold."
   ]
  },
  {
   "cell_type": "markdown",
   "metadata": {},
   "source": [
    "**(i) Explain the non-maximum suppression and hysteresis thresholding parts of the Canny algorithm. **"
   ]
  },
  {
   "cell_type": "markdown",
   "metadata": {},
   "source": [
    "Non-maximum suppression: for each direction only keep the maximum and suppress the others in its neighbors.\n",
    "\n",
    "Hysteresis: use two thresholds (a higher threshold ${\\tau_H}$ and a lower one ${\\tau_L}$) in the edge detection. First start detecting using ${\\tau_H}$. Secondly, of the detected pixels, continue tracking using ${\\tau_L}$. "
   ]
  }
 ],
 "metadata": {
  "kernelspec": {
   "display_name": "Python 3",
   "language": "python",
   "name": "python3"
  },
  "language_info": {
   "codemirror_mode": {
    "name": "ipython",
    "version": 3
   },
   "file_extension": ".py",
   "mimetype": "text/x-python",
   "name": "python",
   "nbconvert_exporter": "python",
   "pygments_lexer": "ipython3",
   "version": "3.6.2"
  }
 },
 "nbformat": 4,
 "nbformat_minor": 2
}
