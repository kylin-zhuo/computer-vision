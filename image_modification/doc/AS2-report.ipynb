{
 "cells": [
  {
   "cell_type": "markdown",
   "metadata": {},
   "source": [
    "# CS512 Assignment 2 - Report\n",
    "## Lin Zhuo\n",
    "## A20379609"
   ]
  },
  {
   "cell_type": "markdown",
   "metadata": {},
   "source": [
    "#### Abstract"
   ]
  },
  {
   "cell_type": "markdown",
   "metadata": {},
   "source": [
    "The report summarized the implementation of simple image manipulations using openCV. In the program the image is loaded either through reading from a file or directly captured from camera. It also provided various options to the users to manipulate the display of image. "
   ]
  },
  {
   "cell_type": "markdown",
   "metadata": {},
   "source": [
    "#### 1. Problem Statement"
   ]
  },
  {
   "cell_type": "markdown",
   "metadata": {},
   "source": [
    "The requirements are: \n",
    "- The image should be input from command line, either from the local file or from the camera. If the file name is specified in the command line, the image should be read from it otherwise the program should attempt to capture an image from camera. \n",
    "- The image should be read as 3-channel color image.\n",
    "- The program should be adapt to any size of image.\n",
    "- There are special keys passed to the command line to modify the displayed image."
   ]
  },
  {
   "cell_type": "markdown",
   "metadata": {},
   "source": [
    "#### 2. Implementation Details"
   ]
  },
  {
   "cell_type": "markdown",
   "metadata": {},
   "source": [
    "* Convert the image to gray scale using own implementation of conversion function.\n",
    "\n",
    "Adopt the formula:  ${Gray(R,G,B) = 0.299 * R + 0.587 * G + 0.114 * B }$\n",
    "\n",
    "Transform the 3-channel color image with shape ${(h,w,3)}$ to gray-scale image with shape ${(h,w)}$. Note that the opencv requires transforming the data type to `np.unit8` in order to display using `imshow()`.\n",
    "\n",
    "**The code:**\n",
    "\n",
    "`image_g = image[:,:,0]*0.299 + image[:,:,1]*0.587 + image[:,:,2]*0.114\n",
    "image_g = image_g.astype(np.uint8)`\n",
    "\n",
    "* Cycle through the color channels of the image showing a different channel every time the key is pressed.\n",
    "\n",
    "Implement this feature by the openCV's function `cv2.split()`. The color channels (blue, green, red) combinations can be obtained. Define a parameter that has the value 0,1,2 to determine the current color channel in cycling. See the code for the details.\n",
    "\n",
    "* Smooth the image\n",
    "\n",
    "When the smoothing is applied using openCV's library, the `blur()` function can be used. \n",
    "\n",
    "Use a N by N matrix with all elements 1 divided by ${N*N}$ as the smoothing filter for implementing the track bar more easily. \n",
    "\n",
    "* Downsize the image\n",
    "\n",
    "Use `resize()` function in openCV.\n",
    "\n",
    "`cv2.resize(image, (image.shape[1]/2, image.shape[0]/2))`\n",
    "\n",
    "* Derivative and gradient computation\n",
    "\n",
    "By convolving the x derivative ${\\begin{bmatrix}-1&1\\\\-1&1\\end{bmatrix}}$ and y derivative ${\\begin{bmatrix}-1&-1\\\\1&1\\end{bmatrix}}$ with the image, we get the gradient in x and in y direction.\n",
    "\n",
    "The gradient can be compute by combining the x and y derivative as:\n",
    "\n",
    "${Grad(I) = \\sqrt{I_x^2 + I_y^2}}$\n",
    "\n",
    "* Draw the gradient vectors\n",
    "\n",
    "The computed gradients in x and y directions ${grad_x}$ and ${grad_y}$ give the information of vector length in each direction. Having the fixed vector length ${K}$, it is possible to calculate the length of gradient vector in x and y direction, ${grad_x * K / \\sqrt{grad_x^2 + grad_y^2}}$ and ${grad_y * K / \\sqrt{grad_x^2 + grad_y^2}}$\n",
    "\n",
    "The function `cv2.line(image, (x1, y1), (x2, y2), (r,g,b), width)` can be used to draw lines on the image object.\n"
   ]
  },
  {
   "cell_type": "markdown",
   "metadata": {},
   "source": [
    "#### 3. Result and Discussion"
   ]
  },
  {
   "cell_type": "markdown",
   "metadata": {},
   "source": [
    "The program can be executed generally in good condition.\n",
    "\n"
   ]
  },
  {
   "cell_type": "markdown",
   "metadata": {},
   "source": [
    "#### 4. References"
   ]
  },
  {
   "cell_type": "markdown",
   "metadata": {},
   "source": [
    "* http://opencv-python-tutroals.readthedocs.io/en/latest/py_tutorials/py_imgproc/py_filtering/py_filtering.html\n",
    "* http://www.cs.iit.edu/~agam/cs512/share/using-opencv.pdf"
   ]
  }
 ],
 "metadata": {
  "kernelspec": {
   "display_name": "Python 2",
   "language": "python",
   "name": "python2"
  },
  "language_info": {
   "codemirror_mode": {
    "name": "ipython",
    "version": 2
   },
   "file_extension": ".py",
   "mimetype": "text/x-python",
   "name": "python",
   "nbconvert_exporter": "python",
   "pygments_lexer": "ipython2",
   "version": "2.7.13"
  }
 },
 "nbformat": 4,
 "nbformat_minor": 2
}
