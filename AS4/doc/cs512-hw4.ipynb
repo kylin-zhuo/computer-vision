{
 "cells": [
  {
   "cell_type": "markdown",
   "metadata": {},
   "source": [
    "## CS512 Homework 4\n",
    "## Lin Zhuo\n",
    "## A20379609"
   ]
  },
  {
   "cell_type": "markdown",
   "metadata": {},
   "source": [
    "### 1. Robust estimation and segmentation"
   ]
  },
  {
   "cell_type": "markdown",
   "metadata": {},
   "source": [
    "**a) Explain what are outliers, and the fundamental problem associated with them when fitting a model.**"
   ]
  },
  {
   "cell_type": "markdown",
   "metadata": {},
   "source": [
    "The outliers are the values that are significantly distant from (much smaller or larger than) most of the other values in a dataset. \n",
    "\n",
    "The fundamental problem brought by the outliers when fitting a model is that the model could be sensitive to the outliers because the outliers are so different from others and even a single outlier may cause huge deviation from the correct result.  "
   ]
  },
  {
   "cell_type": "markdown",
   "metadata": {},
   "source": [
    "**b) Write the objective function that is used for robust estimation and explain its difference from the standard least squares objective function. **"
   ]
  },
  {
   "cell_type": "markdown",
   "metadata": {},
   "source": [
    "The objective functon is:\n",
    "\n",
    "${E(\\theta) = \\Sigma_{i=1}^{n} \\rho_{\\sigma} (d(x_i;\\theta))}$\n",
    "\n",
    "In the standard least squares objective function, \n",
    "\n",
    "${\\rho_{\\sigma}(x) = x^2}$\n",
    "\n",
    "While in robust estimation:\n",
    "\n",
    "${\\rho_{\\sigma}(x) = \\frac{x^2}{x^2+\\sigma^2}}$"
   ]
  },
  {
   "cell_type": "markdown",
   "metadata": {},
   "source": [
    "The difference in robust estimation is that the value of ${\\rho_\\sigma}$ remains bounded even if the error term ${d(x_i;\\theta)}$ goes very large."
   ]
  },
  {
   "cell_type": "markdown",
   "metadata": {},
   "source": [
    "**c) Write the Geman-McClure function for robust estimation and explain its advantage. Explain how the bandwidth parameter ${\\sigma}$ can be adjusted in an iterative manner. **"
   ]
  },
  {
   "cell_type": "markdown",
   "metadata": {},
   "source": [
    "For robust estimation the Geman-McClure function is written as: ${\\rho_{\\sigma}(x) = \\frac{x^2}{x^2+\\sigma^2}}$"
   ]
  },
  {
   "cell_type": "markdown",
   "metadata": {},
   "source": [
    "One advantage is that the Geman-McClure allows adjusting the parameter ${\\sigma}$ and the other is that the weight of outlier is bounded to 1 due to the definition of the formula. "
   ]
  },
  {
   "cell_type": "markdown",
   "metadata": {},
   "source": [
    "The approach to adjust the ${\\sigma}$ is to start from a large ${\\sigma}$ and decrease it iteratively:\n",
    "\n",
    "- 1) draw a large subset of points uniformly at random; \n",
    "\n",
    "- 2) fit model (${\\theta_n}$) using robust estimation \n",
    "\n",
    "- 3) compute ${\\sigma_n = 1.5 * median(d(x_i;\\theta_n))}$\n",
    "\n",
    "- 4) repeat while ${|\\theta_n - \\theta_{n-1}| > \\tau}$"
   ]
  },
  {
   "cell_type": "markdown",
   "metadata": {},
   "source": [
    "**d) Explain the principle of RANSAC algorithm. Should the number of points drawn at each attempt be large or small? Explain why.**"
   ]
  },
  {
   "cell_type": "markdown",
   "metadata": {},
   "source": [
    "The RANSAC algorithm estimates the parameters of a model by random sampling of observed data. Given a dataset with both inliers and outliers, RANSAC uses a scheme to find the optimal fitting result.\n",
    "\n",
    "The number of points drawn at each attempt should be small. Choosing smaller subset gives higher possibility to avoid including outliers in the subset. "
   ]
  },
  {
   "cell_type": "markdown",
   "metadata": {},
   "source": [
    "**e) Explain the parameters of the RANSAC algorithm. Write the formula for estimating the number of trials. **"
   ]
  },
  {
   "cell_type": "markdown",
   "metadata": {},
   "source": [
    "The parameters of the RANSAC algorithm:\n",
    "\n",
    "- n: the number of points to draw at each evaluation\n",
    "\n",
    "- d: the minimum number of points needed\n",
    "\n",
    "- k: the number of trials\n",
    "\n",
    "- t: the distance to identify inliers"
   ]
  },
  {
   "cell_type": "markdown",
   "metadata": {},
   "source": [
    "Define the probability ${p}$ that at least one experiment does not have outliers and ${w}$ the probability that a point is an inlier (with initial guess ${w=0.5}$). \n",
    "\n",
    "The probability that all the k trials failed is ${1-p}$, and the probability that in each trial all the ${n}$ points sampled are inliers is ${w^n}$, therefore, the prbability that a certain trial failed is ${1-w^n}$.\n",
    "\n",
    "${1-p = (1-w^n)^k}$\n",
    "\n",
    "We get:\n",
    "\n",
    "${k = \\frac{log(1-p)}{log(1-w^n)}}$\n",
    "\n",
    "and update ${w}$ in each iteration with: ${w = \\frac{number \\, of \\, inliers}{number \\, of \\, points}}$\n",
    "\n",
    "In practice, set a upper bound to ${k}$ to avoid time limit exceed."
   ]
  },
  {
   "cell_type": "markdown",
   "metadata": {},
   "source": [
    "**f) Explain the objective of image segmentation. Explain the differences between agglomerative (merge) and divisive (split) approaches. **"
   ]
  },
  {
   "cell_type": "markdown",
   "metadata": {},
   "source": [
    "The objective of image segmentation is to partition an image into multiple segments and each segment contains a subset of pixels which have higher similarity in certain aspect than those of other segments. \n",
    "\n",
    "The merge approach starts with each pixel as a seperate cluster and iterates merging clusters, while the split approach does the other way around, starting with all pixels as one cluster and iterating spliting the cluster."
   ]
  },
  {
   "cell_type": "markdown",
   "metadata": {},
   "source": [
    "**g) Explain the k-means and mixture of Gaussian segmentation algorithms. **"
   ]
  },
  {
   "cell_type": "markdown",
   "metadata": {},
   "source": [
    "K-means algorithm is aimed to partition all the data points into ${k}$ clusters in which each data point belongs to the cluster with the nearest mean.\n",
    "\n",
    "The mixture of Gaussian segmentation algorithm uses a different formula for calculating the distances of data points to the centers. That is, it replaces \n",
    "\n",
    "${d = {||f_i - m_j||}^2}$ \n",
    "\n",
    "with ${d = (f_i-m_j)^T\\Sigma^{-1}(f_i-m_j)}$,\n",
    "\n",
    "where ${\\Sigma = \\frac{\\Sigma_{i \\in S_j} (f_i-m_j)(f_i-m_j)^T}{\\# S_j}}$\n",
    "\n",
    "The mixture of Gaussian segmentation algorithm takes account the shape of distribution besides the distance metric."
   ]
  },
  {
   "cell_type": "markdown",
   "metadata": {},
   "source": [
    "**h) Explain the mean-shift algorithm for segmentation. **"
   ]
  },
  {
   "cell_type": "markdown",
   "metadata": {},
   "source": [
    "In mean-shift algorithm, a weight function is used to assign weights to the data points when calculating the new center of a cluster. The closer the data point is to the center, the higher weight it is assigned. \n",
    "\n",
    "\n"
   ]
  },
  {
   "cell_type": "markdown",
   "metadata": {},
   "source": [
    "### 2. Camera calibration"
   ]
  },
  {
   "cell_type": "markdown",
   "metadata": {},
   "source": [
    "**a) Given the projection equation ${p = MP}$ explain the problem of: forward projection, calibration, and reconstruction. Which problem is the easiest? Which is the most difficult? **"
   ]
  },
  {
   "cell_type": "markdown",
   "metadata": {},
   "source": [
    "Forward projection: given the projection matrix ${M}$ and the point ${P}$ in the world, find the projection in camera coordinate. \n",
    "\n",
    "Calibration: given the camera with world point and its projection, find the camera parameter (projection matrix).\n",
    "\n",
    "Reconstruction: given the point in camera coordinate ${p}$, find the world point. \n",
    "\n",
    "Forward projection is the easiest and reconstruction is the most difficult.\n"
   ]
  },
  {
   "cell_type": "markdown",
   "metadata": {},
   "source": [
    "**b) Explain what is the necessary input for camera calibration.**"
   ]
  },
  {
   "cell_type": "markdown",
   "metadata": {},
   "source": [
    "The points in the real world ${\\{P\\}_{i=1}^n}$ (3D points) and their projections in camera ${\\{p\\}_{i=1}^n}$ (2D points). "
   ]
  },
  {
   "cell_type": "markdown",
   "metadata": {},
   "source": [
    "**c) Explain the steps in the non-coplanar calibration algorithm. **"
   ]
  },
  {
   "cell_type": "markdown",
   "metadata": {},
   "source": [
    "- Estimate projection matrix M\n",
    "\n",
    "\n",
    "- Find the parameters of ${M}$: ${K^*, R^*, T^*}$"
   ]
  },
  {
   "cell_type": "markdown",
   "metadata": {},
   "source": [
    "**d) Given a known projection matrix with rows ${(1,2,3,4)(1,0,3,4)(1,1,1,1)}$ and a world point ${P_i=(1,2,3)}$ what are the 2D image coordinates of ${P_i}$ after projecting it? Make sure to convert ${P_i}$ to homogeneous coordinates before projecting it.**"
   ]
  },
  {
   "cell_type": "markdown",
   "metadata": {},
   "source": [
    "Convert ${P_i}$ to homogeneous coordinate and get ${P_i = (1,2,3,1)}$.\n",
    "\n",
    "The projection is:\n",
    "\n",
    "${\\begin{bmatrix}1&2&3&4\\\\1&0&3&4\\\\1&1&1&1\\end{bmatrix} \\begin{bmatrix}1\\\\2\\\\3\\\\1\\end{bmatrix}\n",
    "= \\begin{bmatrix}18\\\\14\\\\7\\end{bmatrix}\n",
    "}$\n",
    "\n",
    "Convert the 2DH point to 2D point we get the 2D image coordinate after projection: ${\\begin{bmatrix}18/7\\\\2\\end{bmatrix}}$"
   ]
  },
  {
   "cell_type": "markdown",
   "metadata": {},
   "source": [
    "**e) Given the corresponding world-image points: ${(1,2,3)<->(100,200)}$ write the first two lines of the matrix that needs to be formed for solving for the unknown projection matrix M. **"
   ]
  },
  {
   "cell_type": "markdown",
   "metadata": {},
   "source": [
    "The first two lines are:\n",
    "\n",
    "${\\begin{bmatrix}P_1^T&0^T&-x_1P_1^T\\\\0^T&P_1^T&-y_1P_1^T\\\\...&...&...\\end{bmatrix}}$\n",
    "\n",
    "Where, \n",
    "\n",
    "${P_1^T = \\begin{bmatrix}1&2&3&1\\end{bmatrix}}$\n",
    "\n",
    "${-x_1P_1^T = \\begin{bmatrix}-100&-200&-300&-100\\end{bmatrix}}$\n",
    "\n",
    "${-y_1P_1^T = \\begin{bmatrix}-200&-400&-600&-200\\end{bmatrix}}$\n",
    "\n",
    "We have the first two lines of the matrix needed to solve ${M}$:\n",
    "\n",
    "${\\begin{bmatrix}1&2&3&1&0&0&0&0&-100&-200&-300&-100\\\\\n",
    "0&0&0&0&1&2&3&1&-200&-400&-600&-200\\\\...&...&...&...&...&...&...&...&...&...&...&...\\end{bmatrix}}$"
   ]
  },
  {
   "cell_type": "markdown",
   "metadata": {},
   "source": [
    "**f) What is the minimal number of points that is necessary to be able to find a unique solution for M. How is the solution obtained? **"
   ]
  },
  {
   "cell_type": "markdown",
   "metadata": {},
   "source": [
    "At least 6 points needed. \n",
    "\n",
    "Each point used in calibration generates two equations and 12 unknown parameters (can be reduced to 11 by some trick) in total have to be determined."
   ]
  },
  {
   "cell_type": "markdown",
   "metadata": {},
   "source": [
    "**g) Explain the principle that is used to extract the unknown camera parameters from the projection matrix M.**"
   ]
  },
  {
   "cell_type": "markdown",
   "metadata": {},
   "source": [
    "Break the projection matrix M and get the individual components. "
   ]
  },
  {
   "cell_type": "markdown",
   "metadata": {},
   "source": [
    "**h) Explain how to compute the quality of the projection matrix M estimate.**"
   ]
  },
  {
   "cell_type": "markdown",
   "metadata": {},
   "source": [
    "Compute the error of the projection using the estimated projection matrix:\n",
    "\n",
    "${E(K^*, R^*, T^*)=\\Sigma_{i=1}^{n}[(x_i-\\cfrac{m_1^TP_i}{m_3^TP_i})^2 + (y_i-\\cfrac{m_2^TP_i}{m_3^TP_i})^2]}$\n",
    "\n",
    "where ${x_i}$ and ${y_i}$ is the point in image coordinate (known), ${\\cfrac{m_1^TP_i}{m_3^TP_i}}$ and ${\\cfrac{m_2^TP_i}{m_3^TP_i}}$ is the computed point in image coordinate. "
   ]
  },
  {
   "cell_type": "markdown",
   "metadata": {},
   "source": [
    "**i) Explain the principle of planar camera calibration. How does planar camera calibration differ from non-coplanar one?**"
   ]
  },
  {
   "cell_type": "markdown",
   "metadata": {},
   "source": [
    "In planar camera calibration, a plane ${\\pi}$ is defined by 4 parameters ${\\pi = (a,b,c,d)}$, where ${(a,b,c)}$ is the normal of the plane and ${d}$ is the distance of the plane to the origin. The equation of the plane is thus ${\\pi ^ T P_i = 0}$.\n",
    "\n",
    "If all points are on plane ${\\pi}$, in the calibration equation ${AX=0}$, ${X^T}$, the ${1 \\times 12}$ vector, has multiple possibilities: ${[\\pi, 0, 0],[0, \\pi, 0],[0, 0, \\pi]}$. \n",
    "\n",
    "The approaches of planar camera calibration are:\n",
    "* Estimate 2D homography between calibration target and image;\n",
    "* Estimate intrinsic parameters from several views;\n",
    "* Compute extrinsic parameteres for any view.\n",
    "\n",
    "In non-coplanar calibartion we have more than one plane with target points (all the calibration points are not on the same plane) while in planar calibartion only one plane is to be used (all the calibration points are on the same plane). "
   ]
  },
  {
   "cell_type": "markdown",
   "metadata": {},
   "source": [
    "**j) Explain the difference between the homography (2D projective map) H and the projection matrix M. What is the assumption that is used to make sure we deal with homography matrices? **"
   ]
  },
  {
   "cell_type": "markdown",
   "metadata": {},
   "source": [
    "In the situation where all the calibartion points are 3DH points with ${z_i=0}$, i.e. ${P_i = \\begin{bmatrix}x_i\\\\y_i\\\\0\\\\1\\end{bmatrix}}$, the extrinsic matrix ${[R^*|T^*]}$, that is ${[r_1|r_2|r_3|T^*]}$ can be simplified to ${[r_1|r_2|T^*]}$, together with the intrinsic matrix it forms the homography ${H = K^*[r_1|r_2|T^*]}$，while the projection matrix ${M = K^*[r_1|r_2|r_3|T^*]}$."
   ]
  },
  {
   "cell_type": "markdown",
   "metadata": {},
   "source": [
    "The assumption is that all the ${z}$ coordinates of the points in the plane are 0."
   ]
  }
 ],
 "metadata": {
  "kernelspec": {
   "display_name": "Python 2",
   "language": "python",
   "name": "python2"
  },
  "language_info": {
   "codemirror_mode": {
    "name": "ipython",
    "version": 2
   },
   "file_extension": ".py",
   "mimetype": "text/x-python",
   "name": "python",
   "nbconvert_exporter": "python",
   "pygments_lexer": "ipython2",
   "version": "2.7.13"
  }
 },
 "nbformat": 4,
 "nbformat_minor": 2
}
